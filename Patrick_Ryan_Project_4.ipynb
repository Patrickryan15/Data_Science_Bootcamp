{
 "cells": [
  {
   "cell_type": "markdown",
   "metadata": {},
   "source": []
  },
  {
   "cell_type": "markdown",
   "metadata": {},
   "source": [
    "<h1>Imports</h1>"
   ]
  },
  {
   "cell_type": "code",
   "execution_count": null,
   "metadata": {},
   "outputs": [],
   "source": [
    "import pandas as pd\n",
    "import matplotlib.pyplot as plt\n",
    "import numpy as np\n",
    "import seaborn as sns\n",
    "from sklearn.model_selection import train_test_split, GridSearchCV\n",
    "from xgboost import XGBClassifier\n",
    "from sklearn.metrics import classification_report\n",
    "from sklearn.impute import SimpleImputer\n",
    "from sklearn.preprocessing import StandardScaler, OneHotEncoder\n",
    "from sklearn.compose import ColumnTransformer\n",
    "from sklearn.pipeline import Pipeline\n",
    "import logging"
   ]
  },
  {
   "cell_type": "markdown",
   "metadata": {},
   "source": [
    "<h1>Logging</h1>"
   ]
  },
  {
   "cell_type": "code",
   "execution_count": null,
   "metadata": {},
   "outputs": [],
   "source": [
    "# Set up logging\n",
    "logging.basicConfig(level=logging.INFO)"
   ]
  },
  {
   "cell_type": "markdown",
   "metadata": {},
   "source": [
    "<h1>Function Declarations</h1>"
   ]
  },
  {
   "cell_type": "code",
   "execution_count": null,
   "metadata": {},
   "outputs": [],
   "source": [
    "def eda(data):\n",
    "    # Excluding the patient visit identifier\n",
    "    data = data.drop(columns=['PATIENT_VISIT_IDENTIFIER'])\n",
    "\n",
    "    # 1. Histogram for 'BLOODPRESSURE_SISTOLIC_MEAN'\n",
    "    plt.figure(figsize=(10, 6))\n",
    "    sns.histplot(data['BLOODPRESSURE_SISTOLIC_MEAN'].dropna(), kde=True, bins=30)\n",
    "    plt.title('Distribution of Systolic Blood Pressure Mean')\n",
    "    plt.xlabel('Systolic Blood Pressure Mean')\n",
    "    plt.ylabel('Count')\n",
    "    plt.show()\n",
    "\n",
    "    # 2. Bar Chart for 'AGE_PERCENTIL'\n",
    "    plt.figure(figsize=(10, 6))\n",
    "    sns.countplot(x='AGE_PERCENTIL', data=data)\n",
    "    plt.title('Counts of Age Percentiles')\n",
    "    plt.xlabel('Age Percentile')\n",
    "    plt.xticks(rotation=45)\n",
    "    plt.ylabel('Count')\n",
    "    plt.show()\n",
    "\n",
    "    # 3. Box Plot for 'BLOODPRESSURE_SISTOLIC_MEAN' by 'AGE_PERCENTIL'\n",
    "    plt.figure(figsize=(12, 6))\n",
    "    sns.boxplot(x='AGE_PERCENTIL', y='BLOODPRESSURE_SISTOLIC_MEAN', data=data)\n",
    "    plt.title('Systolic Blood Pressure Mean by Age Percentile')\n",
    "    plt.xlabel('Age Percentile')\n",
    "    plt.xticks(rotation=45)\n",
    "    plt.ylabel('Systolic Blood Pressure Mean')\n",
    "    plt.show()\n",
    "\n",
    "    # 4. Correlation Heatmap for numeric columns\n",
    "    numeric_data = data.select_dtypes(include=[np.number])\n",
    "    plt.figure(figsize=(10, 8))\n",
    "    sns.heatmap(numeric_data.corr(), annot=True, cmap='coolwarm')\n",
    "    plt.title('Correlation Heatmap (Numeric Columns)')\n",
    "    plt.show()\n",
    "\n",
    "    # 5. Missing Data Heatmap for the first 30 columns\n",
    "    plt.figure(figsize=(15, 6))\n",
    "    sns.heatmap(data.iloc[:, :30].isnull(), cbar=False, cmap='viridis')\n",
    "    plt.title('Missing Data Heatmap (First 30 Columns)')\n",
    "    plt.show()\n"
   ]
  },
  {
   "cell_type": "code",
   "execution_count": null,
   "metadata": {},
   "outputs": [],
   "source": [
    "def compute_correlations(data, target_column, top_n=10):\n",
    "    # Select only numeric columns for correlation\n",
    "    numeric_data = data.select_dtypes(include=[np.number])\n",
    "    correlation_with_target = numeric_data.corr()[target_column].sort_values(ascending=False)\n",
    "    print(f\"Top {top_n} Features Correlated with {target_column}:\\n\")\n",
    "    print(correlation_with_target.head(top_n))"
   ]
  },
  {
   "cell_type": "code",
   "execution_count": null,
   "metadata": {},
   "outputs": [],
   "source": [
    "def load_and_preprocess_data(filepath):\n",
    "    # Load the data\n",
    "    data = pd.read_csv(filepath)\n",
    "    # EDA\n",
    "    eda(data)\n",
    "    compute_correlations(data, 'ICU', 20)  # For top 20 features correlated with ICU\n",
    "    # Drop columns with more than 50% missing values\n",
    "    threshold = 0.5 * len(data)\n",
    "    data_dropped = data.dropna(thresh=threshold, axis=1)\n",
    "    # Separate features and target\n",
    "    X = data_dropped.drop('ICU', axis=1)\n",
    "    y = data_dropped['ICU']\n",
    "    # Identify numerical and categorical columns\n",
    "    numerical_cols = X.select_dtypes(include=['int64', 'float64']).columns\n",
    "    categorical_cols = X.select_dtypes(include=['object']).columns\n",
    "    # Preprocessing pipelines for both numeric and categorical data\n",
    "    numeric_transformer = Pipeline(steps=[\n",
    "        ('imputer', SimpleImputer(strategy='median')),\n",
    "        ('scaler', StandardScaler())])\n",
    "\n",
    "    categorical_transformer = Pipeline(steps=[\n",
    "        ('imputer', SimpleImputer(strategy='most_frequent')),\n",
    "        ('onehot', OneHotEncoder(handle_unknown='ignore'))])\n",
    "    # Combine transformers into a ColumnTransformer\n",
    "    preprocessor = ColumnTransformer(\n",
    "        transformers=[\n",
    "            ('num', numeric_transformer, numerical_cols),\n",
    "            ('cat', categorical_transformer, categorical_cols)])\n",
    "    return preprocessor, X, y"
   ]
  },
  {
   "cell_type": "code",
   "execution_count": null,
   "metadata": {},
   "outputs": [],
   "source": [
    "def train_and_evaluate_model(X, y, preprocessor):\n",
    "    # Define the model and parameters for grid search\n",
    "    model = XGBClassifier()  # Use XGBoost classifier\n",
    "    param_grid = {\n",
    "        'n_estimators': [100, 200, 300],\n",
    "        'max_depth': [10, 20, 30, None],\n",
    "        'learning_rate': [0.01, 0.1, 0.3],  # XGBoost-specific parameter\n",
    "        'min_child_weight': [1, 2, 3],  # XGBoost-specific parameter\n",
    "        'subsample': [0.8, 0.9, 1.0],  # XGBoost-specific parameter\n",
    "    }\n",
    "\n",
    "    # Create a grid search model\n",
    "    grid_search = GridSearchCV(model, param_grid, cv=5, scoring='recall', n_jobs=-1)\n",
    "\n",
    "    # Create a full pipeline with preprocessing and the model\n",
    "    pipeline = Pipeline(steps=[('preprocessor', preprocessor),\n",
    "                               ('grid_search', grid_search)])\n",
    "\n",
    "    # Split the data into training and test sets\n",
    "    X_train, X_test, y_train, y_test = train_test_split(X, y, test_size=0.2, random_state=42)\n",
    "\n",
    "    # Fit the pipeline to the training data\n",
    "    pipeline.fit(X_train, y_train)\n",
    "\n",
    "    # Evaluate the model\n",
    "    y_pred = pipeline.predict(X_test)\n",
    "    print(classification_report(y_test, y_pred))\n",
    "\n",
    "    # Best parameters\n",
    "    print(\"Best parameters:\", grid_search.best_params_)"
   ]
  },
  {
   "cell_type": "code",
   "execution_count": null,
   "metadata": {},
   "outputs": [],
   "source": [
    "def main():\n",
    "    filepath = 'COVID-Full.csv'\n",
    "    preprocessor, X, y = load_and_preprocess_data(filepath)\n",
    "    train_and_evaluate_model(X, y, preprocessor)"
   ]
  },
  {
   "cell_type": "markdown",
   "metadata": {},
   "source": [
    "<h1>Script Start</h1>"
   ]
  },
  {
   "cell_type": "code",
   "execution_count": null,
   "metadata": {},
   "outputs": [],
   "source": [
    "if __name__ == \"__main__\":\n",
    "    main()"
   ]
  }
 ],
 "metadata": {
  "kernelspec": {
   "display_name": "Python 3",
   "language": "python",
   "name": "python3"
  },
  "language_info": {
   "codemirror_mode": {
    "name": "ipython",
    "version": 3
   },
   "file_extension": ".py",
   "mimetype": "text/x-python",
   "name": "python",
   "nbconvert_exporter": "python",
   "pygments_lexer": "ipython3",
   "version": "3.12.1"
  }
 },
 "nbformat": 4,
 "nbformat_minor": 2
}
